{
 "cells": [
  {
   "cell_type": "code",
   "execution_count": 1,
   "metadata": {},
   "outputs": [
    {
     "data": {
      "text/html": [
       "<div>\n",
       "<style scoped>\n",
       "    .dataframe tbody tr th:only-of-type {\n",
       "        vertical-align: middle;\n",
       "    }\n",
       "\n",
       "    .dataframe tbody tr th {\n",
       "        vertical-align: top;\n",
       "    }\n",
       "\n",
       "    .dataframe thead th {\n",
       "        text-align: right;\n",
       "    }\n",
       "</style>\n",
       "<table border=\"1\" class=\"dataframe\">\n",
       "  <thead>\n",
       "    <tr style=\"text-align: right;\">\n",
       "      <th></th>\n",
       "      <th>Participant ID</th>\n",
       "      <th>Age</th>\n",
       "      <th>Gender</th>\n",
       "      <th>Family History</th>\n",
       "      <th>Personal History</th>\n",
       "      <th>Current Stressors</th>\n",
       "      <th>Symptoms</th>\n",
       "      <th>Severity</th>\n",
       "      <th>Impact on Life</th>\n",
       "      <th>Demographics</th>\n",
       "      <th>Medical History</th>\n",
       "      <th>Psychiatric History</th>\n",
       "      <th>Substance Use</th>\n",
       "      <th>Coping Mechanisms</th>\n",
       "      <th>Social Support</th>\n",
       "      <th>Lifestyle Factors</th>\n",
       "      <th>Panic Disorder Diagnosis</th>\n",
       "    </tr>\n",
       "  </thead>\n",
       "  <tbody>\n",
       "    <tr>\n",
       "      <th>0</th>\n",
       "      <td>1</td>\n",
       "      <td>38</td>\n",
       "      <td>Male</td>\n",
       "      <td>No</td>\n",
       "      <td>Yes</td>\n",
       "      <td>Moderate</td>\n",
       "      <td>Shortness of breath</td>\n",
       "      <td>Mild</td>\n",
       "      <td>Mild</td>\n",
       "      <td>Rural</td>\n",
       "      <td>Diabetes</td>\n",
       "      <td>Bipolar disorder</td>\n",
       "      <td>None</td>\n",
       "      <td>Socializing</td>\n",
       "      <td>High</td>\n",
       "      <td>Sleep quality</td>\n",
       "      <td>0</td>\n",
       "    </tr>\n",
       "    <tr>\n",
       "      <th>1</th>\n",
       "      <td>2</td>\n",
       "      <td>51</td>\n",
       "      <td>Male</td>\n",
       "      <td>No</td>\n",
       "      <td>No</td>\n",
       "      <td>High</td>\n",
       "      <td>Panic attacks</td>\n",
       "      <td>Mild</td>\n",
       "      <td>Mild</td>\n",
       "      <td>Urban</td>\n",
       "      <td>Asthma</td>\n",
       "      <td>Anxiety disorder</td>\n",
       "      <td>Drugs</td>\n",
       "      <td>Exercise</td>\n",
       "      <td>High</td>\n",
       "      <td>Sleep quality</td>\n",
       "      <td>0</td>\n",
       "    </tr>\n",
       "    <tr>\n",
       "      <th>2</th>\n",
       "      <td>3</td>\n",
       "      <td>32</td>\n",
       "      <td>Female</td>\n",
       "      <td>Yes</td>\n",
       "      <td>No</td>\n",
       "      <td>High</td>\n",
       "      <td>Panic attacks</td>\n",
       "      <td>Mild</td>\n",
       "      <td>Significant</td>\n",
       "      <td>Urban</td>\n",
       "      <td>Diabetes</td>\n",
       "      <td>Depressive disorder</td>\n",
       "      <td>None</td>\n",
       "      <td>Seeking therapy</td>\n",
       "      <td>Moderate</td>\n",
       "      <td>Exercise</td>\n",
       "      <td>0</td>\n",
       "    </tr>\n",
       "    <tr>\n",
       "      <th>3</th>\n",
       "      <td>4</td>\n",
       "      <td>64</td>\n",
       "      <td>Female</td>\n",
       "      <td>No</td>\n",
       "      <td>No</td>\n",
       "      <td>Moderate</td>\n",
       "      <td>Chest pain</td>\n",
       "      <td>Moderate</td>\n",
       "      <td>Moderate</td>\n",
       "      <td>Rural</td>\n",
       "      <td>Diabetes</td>\n",
       "      <td>None</td>\n",
       "      <td>None</td>\n",
       "      <td>Meditation</td>\n",
       "      <td>High</td>\n",
       "      <td>Exercise</td>\n",
       "      <td>0</td>\n",
       "    </tr>\n",
       "    <tr>\n",
       "      <th>4</th>\n",
       "      <td>5</td>\n",
       "      <td>31</td>\n",
       "      <td>Male</td>\n",
       "      <td>Yes</td>\n",
       "      <td>No</td>\n",
       "      <td>Moderate</td>\n",
       "      <td>Panic attacks</td>\n",
       "      <td>Mild</td>\n",
       "      <td>Moderate</td>\n",
       "      <td>Rural</td>\n",
       "      <td>Asthma</td>\n",
       "      <td>None</td>\n",
       "      <td>Drugs</td>\n",
       "      <td>Seeking therapy</td>\n",
       "      <td>Low</td>\n",
       "      <td>Sleep quality</td>\n",
       "      <td>0</td>\n",
       "    </tr>\n",
       "  </tbody>\n",
       "</table>\n",
       "</div>"
      ],
      "text/plain": [
       "   Participant ID  Age  Gender Family History Personal History  \\\n",
       "0               1   38    Male             No              Yes   \n",
       "1               2   51    Male             No               No   \n",
       "2               3   32  Female            Yes               No   \n",
       "3               4   64  Female             No               No   \n",
       "4               5   31    Male            Yes               No   \n",
       "\n",
       "  Current Stressors             Symptoms  Severity Impact on Life  \\\n",
       "0          Moderate  Shortness of breath      Mild           Mild   \n",
       "1              High        Panic attacks      Mild           Mild   \n",
       "2              High        Panic attacks      Mild    Significant   \n",
       "3          Moderate           Chest pain  Moderate       Moderate   \n",
       "4          Moderate        Panic attacks      Mild       Moderate   \n",
       "\n",
       "  Demographics Medical History  Psychiatric History Substance Use  \\\n",
       "0        Rural        Diabetes     Bipolar disorder          None   \n",
       "1        Urban          Asthma     Anxiety disorder         Drugs   \n",
       "2        Urban        Diabetes  Depressive disorder          None   \n",
       "3        Rural        Diabetes                 None          None   \n",
       "4        Rural          Asthma                 None         Drugs   \n",
       "\n",
       "  Coping Mechanisms Social Support Lifestyle Factors  Panic Disorder Diagnosis  \n",
       "0       Socializing           High     Sleep quality                         0  \n",
       "1          Exercise           High     Sleep quality                         0  \n",
       "2   Seeking therapy       Moderate          Exercise                         0  \n",
       "3        Meditation           High          Exercise                         0  \n",
       "4   Seeking therapy            Low     Sleep quality                         0  "
      ]
     },
     "execution_count": 1,
     "metadata": {},
     "output_type": "execute_result"
    }
   ],
   "source": [
    "import numpy as np\n",
    "import pandas as pd\n",
    "\n",
    "trainset_file_path = './data/panic_disorder_dataset_training.csv'\n",
    "testset_file_path = './data/panic_disorder_dataset_testing.csv'\n",
    "\n",
    "trainData = pd.read_csv(trainset_file_path, na_values='NA')\n",
    "testData = pd.read_csv(testset_file_path, na_values='NA')\n",
    "\n",
    "trainData.head()"
   ]
  },
  {
   "cell_type": "code",
   "execution_count": 2,
   "metadata": {},
   "outputs": [],
   "source": [
    "import random\n",
    "random.seed(0)"
   ]
  },
  {
   "cell_type": "code",
   "execution_count": 3,
   "metadata": {},
   "outputs": [
    {
     "data": {
      "text/html": [
       "<div>\n",
       "<style scoped>\n",
       "    .dataframe tbody tr th:only-of-type {\n",
       "        vertical-align: middle;\n",
       "    }\n",
       "\n",
       "    .dataframe tbody tr th {\n",
       "        vertical-align: top;\n",
       "    }\n",
       "\n",
       "    .dataframe thead th {\n",
       "        text-align: right;\n",
       "    }\n",
       "</style>\n",
       "<table border=\"1\" class=\"dataframe\">\n",
       "  <thead>\n",
       "    <tr style=\"text-align: right;\">\n",
       "      <th></th>\n",
       "      <th>Age</th>\n",
       "      <th>Gender</th>\n",
       "      <th>Family History</th>\n",
       "      <th>Personal History</th>\n",
       "      <th>Current Stressors</th>\n",
       "      <th>Symptoms</th>\n",
       "      <th>Severity</th>\n",
       "      <th>Impact on Life</th>\n",
       "      <th>Demographics</th>\n",
       "      <th>Medical History</th>\n",
       "      <th>Psychiatric History</th>\n",
       "      <th>Substance Use</th>\n",
       "      <th>Coping Mechanisms</th>\n",
       "      <th>Social Support</th>\n",
       "      <th>Lifestyle Factors</th>\n",
       "    </tr>\n",
       "  </thead>\n",
       "  <tbody>\n",
       "    <tr>\n",
       "      <th>0</th>\n",
       "      <td>38</td>\n",
       "      <td>Male</td>\n",
       "      <td>No</td>\n",
       "      <td>Yes</td>\n",
       "      <td>Moderate</td>\n",
       "      <td>Shortness of breath</td>\n",
       "      <td>Mild</td>\n",
       "      <td>Mild</td>\n",
       "      <td>Rural</td>\n",
       "      <td>Diabetes</td>\n",
       "      <td>Bipolar disorder</td>\n",
       "      <td>None</td>\n",
       "      <td>Socializing</td>\n",
       "      <td>High</td>\n",
       "      <td>Sleep quality</td>\n",
       "    </tr>\n",
       "    <tr>\n",
       "      <th>1</th>\n",
       "      <td>51</td>\n",
       "      <td>Male</td>\n",
       "      <td>No</td>\n",
       "      <td>No</td>\n",
       "      <td>High</td>\n",
       "      <td>Panic attacks</td>\n",
       "      <td>Mild</td>\n",
       "      <td>Mild</td>\n",
       "      <td>Urban</td>\n",
       "      <td>Asthma</td>\n",
       "      <td>Anxiety disorder</td>\n",
       "      <td>Drugs</td>\n",
       "      <td>Exercise</td>\n",
       "      <td>High</td>\n",
       "      <td>Sleep quality</td>\n",
       "    </tr>\n",
       "    <tr>\n",
       "      <th>2</th>\n",
       "      <td>32</td>\n",
       "      <td>Female</td>\n",
       "      <td>Yes</td>\n",
       "      <td>No</td>\n",
       "      <td>High</td>\n",
       "      <td>Panic attacks</td>\n",
       "      <td>Mild</td>\n",
       "      <td>Significant</td>\n",
       "      <td>Urban</td>\n",
       "      <td>Diabetes</td>\n",
       "      <td>Depressive disorder</td>\n",
       "      <td>None</td>\n",
       "      <td>Seeking therapy</td>\n",
       "      <td>Moderate</td>\n",
       "      <td>Exercise</td>\n",
       "    </tr>\n",
       "    <tr>\n",
       "      <th>3</th>\n",
       "      <td>64</td>\n",
       "      <td>Female</td>\n",
       "      <td>No</td>\n",
       "      <td>No</td>\n",
       "      <td>Moderate</td>\n",
       "      <td>Chest pain</td>\n",
       "      <td>Moderate</td>\n",
       "      <td>Moderate</td>\n",
       "      <td>Rural</td>\n",
       "      <td>Diabetes</td>\n",
       "      <td>None</td>\n",
       "      <td>None</td>\n",
       "      <td>Meditation</td>\n",
       "      <td>High</td>\n",
       "      <td>Exercise</td>\n",
       "    </tr>\n",
       "    <tr>\n",
       "      <th>4</th>\n",
       "      <td>31</td>\n",
       "      <td>Male</td>\n",
       "      <td>Yes</td>\n",
       "      <td>No</td>\n",
       "      <td>Moderate</td>\n",
       "      <td>Panic attacks</td>\n",
       "      <td>Mild</td>\n",
       "      <td>Moderate</td>\n",
       "      <td>Rural</td>\n",
       "      <td>Asthma</td>\n",
       "      <td>None</td>\n",
       "      <td>Drugs</td>\n",
       "      <td>Seeking therapy</td>\n",
       "      <td>Low</td>\n",
       "      <td>Sleep quality</td>\n",
       "    </tr>\n",
       "  </tbody>\n",
       "</table>\n",
       "</div>"
      ],
      "text/plain": [
       "   Age  Gender Family History Personal History Current Stressors  \\\n",
       "0   38    Male             No              Yes          Moderate   \n",
       "1   51    Male             No               No              High   \n",
       "2   32  Female            Yes               No              High   \n",
       "3   64  Female             No               No          Moderate   \n",
       "4   31    Male            Yes               No          Moderate   \n",
       "\n",
       "              Symptoms  Severity Impact on Life Demographics Medical History  \\\n",
       "0  Shortness of breath      Mild           Mild        Rural        Diabetes   \n",
       "1        Panic attacks      Mild           Mild        Urban          Asthma   \n",
       "2        Panic attacks      Mild    Significant        Urban        Diabetes   \n",
       "3           Chest pain  Moderate       Moderate        Rural        Diabetes   \n",
       "4        Panic attacks      Mild       Moderate        Rural          Asthma   \n",
       "\n",
       "   Psychiatric History Substance Use Coping Mechanisms Social Support  \\\n",
       "0     Bipolar disorder          None       Socializing           High   \n",
       "1     Anxiety disorder         Drugs          Exercise           High   \n",
       "2  Depressive disorder          None   Seeking therapy       Moderate   \n",
       "3                 None          None        Meditation           High   \n",
       "4                 None         Drugs   Seeking therapy            Low   \n",
       "\n",
       "  Lifestyle Factors  \n",
       "0     Sleep quality  \n",
       "1     Sleep quality  \n",
       "2          Exercise  \n",
       "3          Exercise  \n",
       "4     Sleep quality  "
      ]
     },
     "execution_count": 3,
     "metadata": {},
     "output_type": "execute_result"
    }
   ],
   "source": [
    "train_x = trainData.drop('Panic Disorder Diagnosis', axis=1)\n",
    "train_x = train_x.drop('Participant ID', axis=1)\n",
    "train_y = trainData['Panic Disorder Diagnosis']\n",
    "train_y = train_y.astype('int')\n",
    "\n",
    "test_x = testData.drop('Panic Disorder Diagnosis', axis=1)\n",
    "test_x = test_x.drop('Participant ID', axis=1)\n",
    "test_y = testData['Panic Disorder Diagnosis']\n",
    "test_y = test_y.astype('int')\n",
    "\n",
    "train_x.head()"
   ]
  },
  {
   "cell_type": "code",
   "execution_count": 4,
   "metadata": {},
   "outputs": [],
   "source": [
    "train_x = pd.get_dummies(train_x, drop_first=True)\n",
    "test_x = pd.get_dummies(test_x, drop_first=True)\n",
    "\n",
    "# Align the columns in the test set with the train set\n",
    "test_x = test_x.reindex(columns=train_x.columns, fill_value=0)\n"
   ]
  },
  {
   "cell_type": "code",
   "execution_count": 5,
   "metadata": {},
   "outputs": [],
   "source": [
    "from sklearn.preprocessing import StandardScaler\n",
    "scaler = StandardScaler()\n",
    "train_x = scaler.fit_transform(train_x)\n",
    "test_x = scaler.transform(test_x)\n"
   ]
  },
  {
   "cell_type": "markdown",
   "metadata": {},
   "source": [
    "### save Scaler"
   ]
  },
  {
   "cell_type": "code",
   "execution_count": null,
   "metadata": {},
   "outputs": [],
   "source": [
    "# save the scaler to models/scaler.pkl\n",
    "import pickle\n",
    "scaler_file_path = './models/scaler.pkl'\n",
    "pickle.dump(scaler, open(scaler_file_path, 'wb'))"
   ]
  },
  {
   "cell_type": "markdown",
   "metadata": {},
   "source": [
    "### machine learning model"
   ]
  },
  {
   "cell_type": "code",
   "execution_count": 6,
   "metadata": {},
   "outputs": [],
   "source": [
    "from sklearn.linear_model import LogisticRegression\n",
    "\n",
    "logistic_model = LogisticRegression(random_state=0)\n",
    "logistic_model.fit(train_x, train_y)\n",
    "logistic_predictions = logistic_model.predict(test_x)\n"
   ]
  },
  {
   "cell_type": "code",
   "execution_count": 7,
   "metadata": {},
   "outputs": [
    {
     "name": "stdout",
     "output_type": "stream",
     "text": [
      "Accuracy: 0.96825\n",
      "Precision: 0.6584615384615384\n",
      "Recall: 0.5089179548156956\n",
      "F1 Score: 0.5741113346747149\n",
      "Confusion Matrix:\n",
      "[[18937   222]\n",
      " [  413   428]]\n"
     ]
    }
   ],
   "source": [
    "from sklearn.metrics import accuracy_score, precision_score, recall_score, f1_score, confusion_matrix\n",
    "accuracy = accuracy_score(test_y, logistic_predictions)\n",
    "precision = precision_score(test_y, logistic_predictions)\n",
    "recall = recall_score(test_y, logistic_predictions)\n",
    "f1 = f1_score(test_y, logistic_predictions)\n",
    "conf_matrix = confusion_matrix(test_y, logistic_predictions)\n",
    "print(f\"Accuracy: {accuracy}\")\n",
    "print(f\"Precision: {precision}\")\n",
    "print(f\"Recall: {recall}\")\n",
    "print(f\"F1 Score: {f1}\")\n",
    "print(f\"Confusion Matrix:\\n{conf_matrix}\")\n"
   ]
  },
  {
   "cell_type": "code",
   "execution_count": 8,
   "metadata": {},
   "outputs": [],
   "source": [
    "from sklearn.svm import SVC\n",
    "\n",
    "svm_model = SVC(random_state=0)\n",
    "svm_model.fit(train_x, train_y)\n",
    "\n"
   ]
  },
  {
   "cell_type": "markdown",
   "metadata": {},
   "source": [
    "### save Model"
   ]
  },
  {
   "cell_type": "code",
   "execution_count": 11,
   "metadata": {},
   "outputs": [],
   "source": [
    "# save the svm model\n",
    "import pickle\n",
    "pickle.dump(svm_model, open('./models/best_model.pkl', 'wb'))"
   ]
  },
  {
   "cell_type": "markdown",
   "metadata": {},
   "source": [
    "### load Model"
   ]
  },
  {
   "cell_type": "code",
   "execution_count": 13,
   "metadata": {},
   "outputs": [],
   "source": [
    "# load model to svm_model\n",
    "svm_model = pickle.load(open('./models/best_model.pkl', 'rb'))"
   ]
  },
  {
   "cell_type": "code",
   "execution_count": 12,
   "metadata": {},
   "outputs": [
    {
     "name": "stdout",
     "output_type": "stream",
     "text": [
      "Accuracy: 1.0\n",
      "Precision: 1.0\n",
      "Recall: 1.0\n",
      "F1 Score: 1.0\n",
      "Confusion Matrix:\n",
      "[[19159     0]\n",
      " [    0   841]]\n"
     ]
    }
   ],
   "source": [
    "svm_predictions = svm_model.predict(test_x)\n",
    "accuracy = accuracy_score(test_y, svm_predictions)\n",
    "precision = precision_score(test_y, svm_predictions)\n",
    "recall = recall_score(test_y, svm_predictions)\n",
    "f1 = f1_score(test_y, svm_predictions)\n",
    "conf_matrix = confusion_matrix(test_y, svm_predictions)\n",
    "print(f\"Accuracy: {accuracy}\")\n",
    "print(f\"Precision: {precision}\")\n",
    "print(f\"Recall: {recall}\")\n",
    "print(f\"F1 Score: {f1}\")\n",
    "print(f\"Confusion Matrix:\\n{conf_matrix}\")"
   ]
  },
  {
   "cell_type": "code",
   "execution_count": 11,
   "metadata": {},
   "outputs": [],
   "source": [
    "from sklearn.tree import DecisionTreeClassifier\n",
    "\n",
    "decision_tree_model = DecisionTreeClassifier(random_state=0)\n",
    "decision_tree_model.fit(train_x, train_y)\n",
    "decision_tree_predictions = decision_tree_model.predict(test_x)\n"
   ]
  },
  {
   "cell_type": "code",
   "execution_count": 12,
   "metadata": {},
   "outputs": [
    {
     "name": "stdout",
     "output_type": "stream",
     "text": [
      "Accuracy: 0.999\n",
      "Precision: 0.9881093935790726\n",
      "Recall: 0.9881093935790726\n",
      "F1 Score: 0.9881093935790726\n",
      "Confusion Matrix:\n",
      "[[19149    10]\n",
      " [   10   831]]\n"
     ]
    }
   ],
   "source": [
    "accuracy = accuracy_score(test_y, decision_tree_predictions)\n",
    "precision = precision_score(test_y, decision_tree_predictions)\n",
    "recall = recall_score(test_y, decision_tree_predictions)\n",
    "f1 = f1_score(test_y, decision_tree_predictions)\n",
    "conf_matrix = confusion_matrix(test_y, decision_tree_predictions)\n",
    "print(f\"Accuracy: {accuracy}\")\n",
    "print(f\"Precision: {precision}\")\n",
    "print(f\"Recall: {recall}\")\n",
    "print(f\"F1 Score: {f1}\")\n",
    "print(f\"Confusion Matrix:\\n{conf_matrix}\")"
   ]
  },
  {
   "cell_type": "code",
   "execution_count": 13,
   "metadata": {},
   "outputs": [],
   "source": [
    "from sklearn.ensemble import RandomForestClassifier\n",
    "\n",
    "random_forest_model = RandomForestClassifier(random_state=0)\n",
    "random_forest_model.fit(train_x, train_y)\n",
    "random_forest_predictions = random_forest_model.predict(test_x)\n"
   ]
  },
  {
   "cell_type": "code",
   "execution_count": 14,
   "metadata": {},
   "outputs": [
    {
     "name": "stdout",
     "output_type": "stream",
     "text": [
      "Accuracy: 0.9982\n",
      "Precision: 0.9975278121137207\n",
      "Recall: 0.9595719381688466\n",
      "F1 Score: 0.9781818181818182\n",
      "Confusion Matrix:\n",
      "[[19157     2]\n",
      " [   34   807]]\n"
     ]
    }
   ],
   "source": [
    "accuracy = accuracy_score(test_y, random_forest_predictions)\n",
    "precision = precision_score(test_y, random_forest_predictions)\n",
    "recall = recall_score(test_y, random_forest_predictions)\n",
    "f1 = f1_score(test_y, random_forest_predictions)\n",
    "conf_matrix = confusion_matrix(test_y, random_forest_predictions)\n",
    "print(f\"Accuracy: {accuracy}\")\n",
    "print(f\"Precision: {precision}\")\n",
    "print(f\"Recall: {recall}\")\n",
    "print(f\"F1 Score: {f1}\")\n",
    "print(f\"Confusion Matrix:\\n{conf_matrix}\")"
   ]
  },
  {
   "cell_type": "code",
   "execution_count": 15,
   "metadata": {},
   "outputs": [],
   "source": [
    "from sklearn.ensemble import GradientBoostingClassifier\n",
    "\n",
    "gradient_boosting_model = GradientBoostingClassifier(random_state=0)\n",
    "gradient_boosting_model.fit(train_x, train_y)\n",
    "gradient_boosting_predictions = gradient_boosting_model.predict(test_x)\n"
   ]
  },
  {
   "cell_type": "code",
   "execution_count": 16,
   "metadata": {},
   "outputs": [
    {
     "name": "stdout",
     "output_type": "stream",
     "text": [
      "Accuracy: 0.9987\n",
      "Precision: 0.9721900347624566\n",
      "Recall: 0.9976218787158145\n",
      "F1 Score: 0.9847417840375586\n",
      "Confusion Matrix:\n",
      "[[19135    24]\n",
      " [    2   839]]\n"
     ]
    }
   ],
   "source": [
    "accuracy = accuracy_score(test_y, gradient_boosting_predictions)\n",
    "precision = precision_score(test_y, gradient_boosting_predictions)\n",
    "recall = recall_score(test_y, gradient_boosting_predictions)\n",
    "f1 = f1_score(test_y, gradient_boosting_predictions)\n",
    "conf_matrix = confusion_matrix(test_y, gradient_boosting_predictions)\n",
    "print(f\"Accuracy: {accuracy}\")\n",
    "print(f\"Precision: {precision}\")\n",
    "print(f\"Recall: {recall}\")\n",
    "print(f\"F1 Score: {f1}\")\n",
    "print(f\"Confusion Matrix:\\n{conf_matrix}\")"
   ]
  },
  {
   "cell_type": "markdown",
   "metadata": {},
   "source": [
    "### neural network"
   ]
  },
  {
   "cell_type": "code",
   "execution_count": 17,
   "metadata": {},
   "outputs": [],
   "source": [
    "import tensorflow as tf\n",
    "tf.random.set_seed(0)\n"
   ]
  },
  {
   "cell_type": "code",
   "execution_count": 18,
   "metadata": {},
   "outputs": [],
   "source": [
    "import numpy as np\n",
    "from keras.models import Sequential\n",
    "from keras.layers import Dense\n",
    "from keras.optimizers import Adam\n"
   ]
  },
  {
   "cell_type": "code",
   "execution_count": 19,
   "metadata": {},
   "outputs": [
    {
     "name": "stderr",
     "output_type": "stream",
     "text": [
      "WARNING:absl:At this time, the v2.11+ optimizer `tf.keras.optimizers.Adam` runs slowly on M1/M2 Macs, please use the legacy Keras optimizer instead, located at `tf.keras.optimizers.legacy.Adam`.\n"
     ]
    }
   ],
   "source": [
    "# Initialize the constructor\n",
    "model = Sequential()\n",
    "\n",
    "# Add an input layer \n",
    "model.add(Dense(12, activation='relu', input_shape=(train_x.shape[1],)))\n",
    "\n",
    "# Add one hidden layer \n",
    "model.add(Dense(8, activation='relu'))\n",
    "\n",
    "# Add an output layer \n",
    "model.add(Dense(1, activation='sigmoid'))\n",
    "\n",
    "# Compile model\n",
    "model.compile(loss='binary_crossentropy',\n",
    "              optimizer=Adam(),\n",
    "              metrics=['accuracy'])\n"
   ]
  },
  {
   "cell_type": "code",
   "execution_count": 20,
   "metadata": {},
   "outputs": [
    {
     "name": "stdout",
     "output_type": "stream",
     "text": [
      "Epoch 1/5\n",
      "100000/100000 [==============================] - 29s 286us/step - loss: 0.0240 - accuracy: 0.9908\n",
      "Epoch 2/5\n",
      "100000/100000 [==============================] - 28s 283us/step - loss: 3.6588e-04 - accuracy: 0.9999\n",
      "Epoch 3/5\n",
      "100000/100000 [==============================] - 28s 281us/step - loss: 3.1808e-05 - accuracy: 1.0000\n",
      "Epoch 4/5\n",
      "100000/100000 [==============================] - 28s 282us/step - loss: 1.7925e-06 - accuracy: 1.0000\n",
      "Epoch 5/5\n",
      "100000/100000 [==============================] - 28s 284us/step - loss: 1.4254e-11 - accuracy: 1.0000\n"
     ]
    },
    {
     "data": {
      "text/plain": [
       "<keras.src.callbacks.History at 0x2de27a890>"
      ]
     },
     "execution_count": 20,
     "metadata": {},
     "output_type": "execute_result"
    }
   ],
   "source": [
    "# Fit the model\n",
    "model.fit(train_x, train_y, epochs=5, batch_size=1, verbose=1)\n"
   ]
  },
  {
   "cell_type": "code",
   "execution_count": 21,
   "metadata": {},
   "outputs": [
    {
     "name": "stdout",
     "output_type": "stream",
     "text": [
      "Model Accuracy: 100.00%\n"
     ]
    }
   ],
   "source": [
    "loss, accuracy = model.evaluate(test_x, test_y, verbose=0)\n",
    "print(\"Model Accuracy: %.2f%%\" % (accuracy * 100))\n"
   ]
  },
  {
   "cell_type": "code",
   "execution_count": null,
   "metadata": {},
   "outputs": [],
   "source": []
  }
 ],
 "metadata": {
  "kernelspec": {
   "display_name": "Python 3 (ipykernel)",
   "language": "python",
   "name": "python3"
  },
  "language_info": {
   "codemirror_mode": {
    "name": "ipython",
    "version": 3
   },
   "file_extension": ".py",
   "mimetype": "text/x-python",
   "name": "python",
   "nbconvert_exporter": "python",
   "pygments_lexer": "ipython3",
   "version": "3.12.0"
  }
 },
 "nbformat": 4,
 "nbformat_minor": 2
}
